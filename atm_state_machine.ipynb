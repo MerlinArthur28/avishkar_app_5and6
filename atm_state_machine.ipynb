{
 "cells": [
  {
   "cell_type": "markdown",
   "id": "91729eaa-fe2c-4cfb-b5ff-f607fcd2085f",
   "metadata": {},
   "source": [
    "# <font color = 'red'>State Diagram of ATM</font>"
   ]
  },
  {
   "cell_type": "markdown",
   "id": "d1b000af-baf5-4c56-82db-f39d487e1634",
   "metadata": {},
   "source": [
    "<img src = atm_state_diagram.png>"
   ]
  },
  {
   "cell_type": "code",
   "execution_count": null,
   "id": "446d227f-6d1c-40b5-8a9f-bb66939b76fb",
   "metadata": {},
   "outputs": [],
   "source": [
    "state_dictionary = {\n",
    "    'state_name' :['card_validation','pin_validation','transaction','exit'],\n",
    "    'condition'  :[1,1], ## 1 if card is valid and 1 if pin is valid respectively.\n",
    "    'prompt'     :['1 if card is valid else 0','1 if pin is valid 0 else'],\n",
    "    'next_state' :[['pin_validation','exit'],['transaction','exit'],'exit','card_validation'],\n",
    "    'output'     :['Card invalid','Pin invalid','transaction sucessful',''],\n",
    "    'message'    :['card inserted','Enter Pin','transaction in progress','']\n",
    "}"
   ]
  },
  {
   "cell_type": "code",
   "execution_count": null,
   "id": "36c14189-4904-462a-93a7-0ce8577b763a",
   "metadata": {},
   "outputs": [],
   "source": [
    "class ATM:\n",
    "    def __init__(self,dictionary):\n",
    "        self.dictionary = dictionary\n",
    "    def action(self):\n",
    "        current_state = 'card_validation'\n",
    "        while(True):\n",
    "            ind = self.dictionary['state_name'].index(current_state)\n",
    "            print(self.dictionary['message'][ind])\n",
    "            if ind<2:\n",
    "                print(self.dictionary['prompt'][ind])\n",
    "                ans = int(input())\n",
    "                if self.dictionary['condition'][ind] == ans:\n",
    "                    current_state = self.dictionary['next_state'][ind][0]\n",
    "                else:\n",
    "                    current_state = self.dictionary['next_state'][ind][1]\n",
    "                    print(self.dictionary['output'][ind])\n",
    "            else:\n",
    "                current_state = self.dictionary['next_state'][ind]\n",
    "                print(self.dictionary['output'][ind])\n",
    "    def action_stop(self):\n",
    "        current_state = 'card_validation'\n",
    "        while(True):\n",
    "            ind = self.dictionary['state_name'].index(current_state)\n",
    "            print(self.dictionary['message'][ind])\n",
    "            if ind<2:\n",
    "                print(self.dictionary['prompt'][ind])\n",
    "                ans = int(input())\n",
    "                if self.dictionary['condition'][ind] == ans:\n",
    "                    current_state = self.dictionary['next_state'][ind][0]\n",
    "                elif ans==-1:\n",
    "                    break\n",
    "                else:\n",
    "                    current_state = self.dictionary['next_state'][ind][1]\n",
    "                    print(self.dictionary['output'][ind])\n",
    "            else:\n",
    "                current_state = self.dictionary['next_state'][ind]\n",
    "                print(self.dictionary['output'][ind])\n",
    "                "
   ]
  },
  {
   "cell_type": "code",
   "execution_count": null,
   "id": "6ab57fa6-634b-42e1-af12-6f786a7fa505",
   "metadata": {},
   "outputs": [],
   "source": [
    "state = ATM(state_dictionary)"
   ]
  },
  {
   "cell_type": "markdown",
   "id": "00a66648-daa0-4707-b4af-3b4bee295cbc",
   "metadata": {},
   "source": [
    "Since the atm machine always go to start after every transaction the below cell runs in an infinite loop and wont stop. We can recitify this by adding one more condition and making it stop but in real life the atm machine always runs without stopping so, to simulate that the assumption I made is it should run in an infinite loop.\n",
    "In the cell below this i am writing another function similar to this but we can stop the atm machine by pressing -1 in any prompt."
   ]
  },
  {
   "cell_type": "code",
   "execution_count": null,
   "id": "d971786d-c637-4a36-87f0-3058bb0deadc",
   "metadata": {},
   "outputs": [],
   "source": [
    "state.action()"
   ]
  },
  {
   "cell_type": "code",
   "execution_count": null,
   "id": "7fcd0847-22e2-4785-9ecb-c2cb7066fbae",
   "metadata": {},
   "outputs": [],
   "source": [
    "state.action_stop()"
   ]
  },
  {
   "cell_type": "code",
   "execution_count": null,
   "id": "a6df9996-05f0-4eff-9f83-4c85eb77add4",
   "metadata": {},
   "outputs": [],
   "source": []
  }
 ],
 "metadata": {
  "kernelspec": {
   "display_name": "Python 3",
   "language": "python",
   "name": "python3"
  },
  "language_info": {
   "codemirror_mode": {
    "name": "ipython",
    "version": 3
   },
   "file_extension": ".py",
   "mimetype": "text/x-python",
   "name": "python",
   "nbconvert_exporter": "python",
   "pygments_lexer": "ipython3",
   "version": "3.9.4"
  }
 },
 "nbformat": 4,
 "nbformat_minor": 5
}
